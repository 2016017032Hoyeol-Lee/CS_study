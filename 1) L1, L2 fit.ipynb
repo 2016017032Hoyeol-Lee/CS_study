{
 "cells": [
  {
   "cell_type": "code",
   "execution_count": 1,
   "metadata": {},
   "outputs": [],
   "source": [
    "import numpy as np \n",
    "import matplotlib as mpl \n",
    "import matplotlib.pyplot as plt \n",
    "import scipy.optimize as spopt \n",
    "%matplotlib inline"
   ]
  },
  {
   "cell_type": "code",
   "execution_count": 2,
   "metadata": {},
   "outputs": [],
   "source": [
    "x = np.sort(np.random.uniform(0,10,15))\n",
    "y = 15 + 2*x + np.random.randn(len(x))"
   ]
  },
  {
   "cell_type": "markdown",
   "metadata": {},
   "source": [
    "L1 fit"
   ]
  },
  {
   "cell_type": "code",
   "execution_count": 3,
   "metadata": {},
   "outputs": [
    {
     "name": "stdout",
     "output_type": "stream",
     "text": [
      "Optimization terminated successfully.\n",
      "         Current function value: 12.819673\n",
      "         Iterations: 79\n",
      "         Function evaluations: 151\n"
     ]
    },
    {
     "data": {
      "text/plain": [
       "array([ 2.00317339, 15.31755317])"
      ]
     },
     "execution_count": 3,
     "metadata": {},
     "output_type": "execute_result"
    }
   ],
   "source": [
    "l1_fit = lambda x0, x, y: np.sum(np.abs(x0[0] * x + x0[1] - y))\n",
    "x_opt1 = spopt.fmin(func = l1_fit, x0 = [1,1], args =(x,y))\n",
    "x_opt1"
   ]
  },
  {
   "cell_type": "markdown",
   "metadata": {},
   "source": [
    "L2 fit"
   ]
  },
  {
   "cell_type": "code",
   "execution_count": 4,
   "metadata": {},
   "outputs": [
    {
     "name": "stdout",
     "output_type": "stream",
     "text": [
      "Optimization terminated successfully.\n",
      "         Current function value: 18.086305\n",
      "         Iterations: 75\n",
      "         Function evaluations: 140\n"
     ]
    },
    {
     "data": {
      "text/plain": [
       "array([ 2.00541902, 15.10297534])"
      ]
     },
     "execution_count": 4,
     "metadata": {},
     "output_type": "execute_result"
    }
   ],
   "source": [
    "l2_fit = lambda x0, x, y: np.sum(np.power(x0[0] * x + x0[1] - y,2))\n",
    "x_opt2 = spopt.fmin(func = l2_fit, x0 = [1,1], args =(x,y))\n",
    "x_opt2"
   ]
  },
  {
   "cell_type": "code",
   "execution_count": 5,
   "metadata": {},
   "outputs": [
    {
     "data": {
      "text/plain": [
       "<matplotlib.legend.Legend at 0x1ab37cacb08>"
      ]
     },
     "execution_count": 5,
     "metadata": {},
     "output_type": "execute_result"
    },
    {
     "data": {
      "image/png": "[encoded data removed]",
      "text/plain": [
       "<Figure size 432x288 with 1 Axes>"
      ]
     },
     "metadata": {
      "needs_background": "light"
     },
     "output_type": "display_data"
    }
   ],
   "source": [
    "fig = plt.figure()\n",
    "ax = fig.add_subplot(111)\n",
    "ax.plot(x, x_opt1[0]*x+x_opt1[1],'r',label='L1 fit')\n",
    "ax.plot(x, x_opt2[0]*x+x_opt2[1],'g',label='L2 fit')\n",
    "ax.scatter(x,y,label='data')\n",
    "ax.legend()"
   ]
  },
  {
   "cell_type": "code",
   "execution_count": 6,
   "metadata": {},
   "outputs": [
    {
     "name": "stdout",
     "output_type": "stream",
     "text": [
      "Optimization terminated successfully.\n",
      "         Current function value: 79.819674\n",
      "         Iterations: 90\n",
      "         Function evaluations: 170\n",
      "Optimization terminated successfully.\n",
      "         Current function value: 1759.585586\n",
      "         Iterations: 67\n",
      "         Function evaluations: 125\n"
     ]
    }
   ],
   "source": [
    "y1 = y.copy()\n",
    "y1[2] += 34\n",
    "y1[13] -= 33\n",
    "\n",
    "x_opt12 = spopt.fmin(func=l1_fit, x0=[1, 1], args=(x, y1))\n",
    "x_opt22 = spopt.fmin(func=l2_fit, x0=[1, 1], args=(x, y1))"
   ]
  },
  {
   "cell_type": "code",
   "execution_count": 7,
   "metadata": {},
   "outputs": [
    {
     "data": {
      "text/plain": [
       "<matplotlib.legend.Legend at 0x1ab380058c8>"
      ]
     },
     "execution_count": 7,
     "metadata": {},
     "output_type": "execute_result"
    },
    {
     "data": {
      "image/png": "[encoded data removed]",
      "text/plain": [
       "<Figure size 432x288 with 1 Axes>"
      ]
     },
     "metadata": {
      "needs_background": "light"
     },
     "output_type": "display_data"
    }
   ],
   "source": [
    "fig = plt.figure()\n",
    "ax = fig.add_subplot(111)\n",
    "ax.plot(x, x_opt12[0]*x+x_opt12[1],'r',label='L1 fit')\n",
    "ax.plot(x, x_opt22[0]*x+x_opt22[1],'g',label='L2 fit')\n",
    "ax.scatter(x,y1,label='data')\n",
    "ax.legend()"
   ]
  },
  {
   "cell_type": "code",
   "execution_count": null,
   "metadata": {},
   "outputs": [],
   "source": []
  }
 ],
 "metadata": {
  "kernelspec": {
   "display_name": "Python 3",
   "language": "python",
   "name": "python3"
  },
  "language_info": {
   "codemirror_mode": {
    "name": "ipython",
    "version": 3
   },
   "file_extension": ".py",
   "mimetype": "text/x-python",
   "name": "python",
   "nbconvert_exporter": "python",
   "pygments_lexer": "ipython3",
   "version": "3.7.9"
  }
 },
 "nbformat": 4,
 "nbformat_minor": 4
}
